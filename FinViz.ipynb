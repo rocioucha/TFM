{
 "cells": [
  {
   "cell_type": "code",
   "execution_count": 5,
   "metadata": {},
   "outputs": [
    {
     "name": "stderr",
     "output_type": "stream",
     "text": [
      "[nltk_data] Downloading package vader_lexicon to\n",
      "[nltk_data]     C:\\Users\\maria.rocio.ucha\\AppData\\Roaming\\nltk_data...\n",
      "[nltk_data]   Package vader_lexicon is already up-to-date!\n"
     ]
    },
    {
     "data": {
      "text/plain": [
       "True"
      ]
     },
     "execution_count": 5,
     "metadata": {},
     "output_type": "execute_result"
    }
   ],
   "source": [
    "# Import libraries\n",
    "from urllib.request import urlopen, Request\n",
    "from bs4 import BeautifulSoup\n",
    "import os\n",
    "import pandas as pd\n",
    "import matplotlib.pyplot as plt\n",
    "%matplotlib inline\n",
    "# NLTK VADER for sentiment analysis\n",
    "from nltk.sentiment.vader import SentimentIntensityAnalyzer\n",
    "\n",
    "from pymongo import MongoClient\n",
    "import pyodbc\n",
    "import json\n",
    "import nltk\n",
    "nltk.download('vader_lexicon')"
   ]
  },
  {
   "cell_type": "code",
   "execution_count": 6,
   "metadata": {},
   "outputs": [
    {
     "name": "stdout",
     "output_type": "stream",
     "text": [
      "Total de acciones a recuperar: 11\n",
      "[{'stock': 'AXP', 'company_name': 'American Express Co'}, {'stock': 'BA', 'company_name': 'Boeing Company'}, {'stock': 'D', 'company_name': 'Dominion Energy'}, {'stock': 'DD', 'company_name': 'DuPont de Nemours Inc'}, {'stock': 'GOOG', 'company_name': 'Alphabet Inc.\\xa0(Class C)'}, {'stock': 'IBM', 'company_name': 'International Business Machines'}, {'stock': 'KO', 'company_name': 'Coca-Cola Company'}, {'stock': 'PFE', 'company_name': 'Pfizer Inc.'}, {'stock': 'SPG', 'company_name': 'Simon Property Group Inc'}, {'stock': 'TSLA', 'company_name': 'Tesla, Inc.'}, {'stock': 'XOM', 'company_name': 'Exxon Mobil Corp.'}]\n"
     ]
    }
   ],
   "source": [
    "# Credenciales para conexión a Azure SQL Server\n",
    "Server=\"Driver={SQL Server};Server=tfmcice.database.windows.net;Database=StocksDB;UID=tfmcice;PWD=Q1w2e3r4t5!;Trusted_Connections=no;\"\n",
    "\n",
    "conn = pyodbc.connect(Server)    \n",
    "\n",
    "cursor = conn.cursor()\n",
    "cursor.execute('''select s.stock, s.company_name\n",
    "               from stocks s''') \n",
    "\n",
    "row = cursor.fetchone() \n",
    "stocks = []\n",
    "while row: \n",
    "    # Columna 0: Ticket, Columna 1: Company Name\n",
    "    stock_detail = { 'stock' : row[0], 'company_name': row[1]}\n",
    "    stocks.append(stock_detail)\n",
    "    row = cursor.fetchone()\n",
    "\n",
    "cursor.close()\n",
    "    \n",
    "print(\"Total de acciones a recuperar:\", len(stocks))\n",
    "print(stocks)"
   ]
  },
  {
   "cell_type": "code",
   "execution_count": 3,
   "metadata": {
    "scrolled": false
   },
   "outputs": [],
   "source": [
    "# Connection Mongo DB\n",
    "uri = \"mongodb://tfmcice:i9PqjFS50Iad5WusUksnFnIjleXHo8vXjONtJuSHeDELDrC3nOjMIs6HWIADG7BE1aogkBEFGxzFWTZBgTEEyg==@tfmcice.mongo.cosmos.azure.com:10255/?ssl=true&retrywrites=false&replicaSet=globaldb&maxIdleTimeMS=120000&appName=@tfmcice@\"\n",
    "client = MongoClient(uri)\n",
    "db = client['StocksDB']\n",
    "companies = db['Companies']\n",
    "\n",
    "finwiz_url = 'https://finviz.com/quote.ashx?t='\n",
    "news_tables = {}\n",
    "\n",
    "# Instantiate the sentiment intensity analyzer\n",
    "vader = SentimentIntensityAnalyzer()\n",
    "\n",
    "for company in stocks:\n",
    "    url = finwiz_url + company.get(\"stock\")\n",
    "    req = Request(url=url,headers={'user-agent': 'my-app/0.0.1'}) \n",
    "    response = urlopen(req)\n",
    "\n",
    "    # Read the contents of the file into 'html'\n",
    "    html = BeautifulSoup(response)\n",
    "    # Find 'news-table' in the Soup and load it into 'news_table'\n",
    "    news_table = html.find(id='news-table')\n",
    "    # Add the table to our dictionary\n",
    "    news_tables[company.get(\"stock\")] = news_table\n",
    "\n",
    "n = 0\n",
    "# Iterate through the news\n",
    "for file_name, news_table in news_tables.items():\n",
    "\n",
    "    parsed_news = []\n",
    "    company = stocks[n].get(\"company_name\")\n",
    "    # Extract the ticker from the file name, get the string up to the 1st '_'\n",
    "    ticker = file_name.split('_')[0]\n",
    "\n",
    "    # Iterate through all tr tags in 'news_table'\n",
    "    for x in news_table.findAll('tr'):\n",
    "\n",
    "        # read the text from each tr tag into text\n",
    "        # get text from a only\n",
    "        text = x.a.get_text() \n",
    "\n",
    "        # splite text in the td tag into a list \n",
    "        date_scrape = x.td.text.split()\n",
    "\n",
    "        # if the length of 'date_scrape' is 1, load 'time' as the only element\n",
    "        if len(date_scrape) == 1:\n",
    "            time = date_scrape[0]\n",
    "\n",
    "        # else load 'date' as the 1st element and 'time' as the second    \n",
    "        else:\n",
    "            date = date_scrape[0] + \" \" + date_scrape[1]\n",
    "\n",
    "        # Append ticker, date, time and headline as a list to the 'parsed_news' list\n",
    "        parsed_news.append([company,ticker,date,text])\n",
    "\n",
    "    n+=1\n",
    "    \n",
    "    if len(parsed_news) :\n",
    "        # Set column names\n",
    "        columns = ['Company', 'Ticker', 'Date', 'Title']\n",
    "        # Convert the parsed_news list into a DataFrame called 'parsed_and_scored_news'\n",
    "        news_df = pd.DataFrame(parsed_news, columns=columns)\n",
    "\n",
    "        # Iterate through the headlines and get the polarity scores using vader\n",
    "        scores = news_df['Title'].apply(vader.polarity_scores).tolist()\n",
    "        #Convert the 'scores' list of dicts into a DataFrame\n",
    "        scores_df = pd.DataFrame(scores)\n",
    "\n",
    "        # Join the DataFrames of the news and the list of dicts\n",
    "        news_df = news_df.join(scores_df, rsuffix='_right')\n",
    "\n",
    "        #path = \"data/{}_Ticker.xlsx\".format(company)\n",
    "        #news_df.to_excel(path,index=False)\n",
    "\n",
    "        list_dict = []\n",
    "        #with open('data/Companies.json', 'a+', encoding='utf-8') as fich:\n",
    "        for index, row in list(news_df.iterrows()):\n",
    "            list_dict.append(dict(row))\n",
    "\n",
    "        companies.insert_many(list_dict)\n",
    "        #json.dump(list_dict, fich, ensure_ascii=False, indent=4) # , sort_keys=False\n",
    "\n",
    "client.close()"
   ]
  },
  {
   "cell_type": "code",
   "execution_count": 30,
   "metadata": {},
   "outputs": [],
   "source": [
    "# Convert the date column from string to datetime\n",
    "#parsed_and_scored_news['date'] = pd.to_datetime(parsed_and_scored_news.date).dt.date"
   ]
  },
  {
   "cell_type": "code",
   "execution_count": 31,
   "metadata": {},
   "outputs": [
    {
     "data": {
      "image/png": "[encoded data removed]",
      "text/plain": [
       "<Figure size 720x432 with 1 Axes>"
      ]
     },
     "metadata": {
      "needs_background": "light"
     },
     "output_type": "display_data"
    }
   ],
   "source": [
    "plt.rcParams['figure.figsize'] = [10, 6]\n",
    "\n",
    "# Group by date and ticker columns from scored_news and calculate the mean\n",
    "mean_scores = parsed_and_scored_news.groupby(['ticker','date']).mean()\n",
    "\n",
    "# Unstack the column ticker\n",
    "mean_scores = mean_scores.unstack()\n",
    "\n",
    "# Get the cross-section of compound in the 'columns' axis\n",
    "mean_scores = mean_scores.xs('compound', axis=\"columns\").transpose()\n",
    "\n",
    "# Plot a bar chart with pandas\n",
    "mean_scores.plot(kind = 'bar')\n",
    "plt.grid()"
   ]
  },
  {
   "cell_type": "code",
   "execution_count": null,
   "metadata": {},
   "outputs": [],
   "source": []
  }
 ],
 "metadata": {
  "kernelspec": {
   "display_name": "Python 3",
   "language": "python",
   "name": "python3"
  },
  "language_info": {
   "codemirror_mode": {
    "name": "ipython",
    "version": 3
   },
   "file_extension": ".py",
   "mimetype": "text/x-python",
   "name": "python",
   "nbconvert_exporter": "python",
   "pygments_lexer": "ipython3",
   "version": "3.8.5"
  }
 },
 "nbformat": 4,
 "nbformat_minor": 4
}
